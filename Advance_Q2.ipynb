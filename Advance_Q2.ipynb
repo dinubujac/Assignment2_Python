{
 "cells": [
  {
   "cell_type": "code",
   "execution_count": 8,
   "metadata": {},
   "outputs": [
    {
     "name": "stdout",
     "output_type": "stream",
     "text": [
      "{'Dinu': 2, 'is': 1, 'writing': 1, 'a': 1, 'python': 2, 'script': 2, 'was': 1, 'written': 1, 'by': 1, 'using': 1, 'language': 1}\n"
     ]
    }
   ],
   "source": [
    "# count number of words occurance in a string\n",
    "string = \"Dinu is writing a python script script was written by Dinu using python language\"\n",
    "\n",
    "words = string.split(\" \")\n",
    "\n",
    "output = {}\n",
    "\n",
    "for x in words:\n",
    " try:\n",
    "   output[x] += 1\n",
    " except KeyError:\n",
    "   output[x] = 1\n",
    " \n",
    " \n",
    "print(output)"
   ]
  },
  {
   "cell_type": "code",
   "execution_count": null,
   "metadata": {},
   "outputs": [],
   "source": []
  }
 ],
 "metadata": {
  "kernelspec": {
   "display_name": "Python 3",
   "language": "python",
   "name": "python3"
  },
  "language_info": {
   "codemirror_mode": {
    "name": "ipython",
    "version": 3
   },
   "file_extension": ".py",
   "mimetype": "text/x-python",
   "name": "python",
   "nbconvert_exporter": "python",
   "pygments_lexer": "ipython3",
   "version": "3.7.3"
  }
 },
 "nbformat": 4,
 "nbformat_minor": 2
}
