{
 "cells": [
  {
   "cell_type": "code",
   "execution_count": 2,
   "metadata": {},
   "outputs": [
    {
     "name": "stdout",
     "output_type": "stream",
     "text": [
      "Ths s  strng wth Vwls nsd nd Sm cps\n"
     ]
    }
   ],
   "source": [
    "# remove vowels from a string in python\n",
    "string = \"This is a string with Vowels Inside and Some cAps\"\n",
    "output = \"\"\n",
    "\n",
    "for i in range( len(string) ):\n",
    " if not ( string[i].lower() in ['a', 'e','i', 'o', 'u']):\n",
    "  output += string[i]\n",
    "\n",
    "print (output)\n",
    " "
   ]
  },
  {
   "cell_type": "code",
   "execution_count": null,
   "metadata": {},
   "outputs": [],
   "source": []
  }
 ],
 "metadata": {
  "kernelspec": {
   "display_name": "Python 3",
   "language": "python",
   "name": "python3"
  },
  "language_info": {
   "codemirror_mode": {
    "name": "ipython",
    "version": 3
   },
   "file_extension": ".py",
   "mimetype": "text/x-python",
   "name": "python",
   "nbconvert_exporter": "python",
   "pygments_lexer": "ipython3",
   "version": "3.7.3"
  }
 },
 "nbformat": 4,
 "nbformat_minor": 2
}
