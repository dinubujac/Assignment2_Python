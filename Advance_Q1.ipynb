{
 "cells": [
  {
   "cell_type": "code",
   "execution_count": 3,
   "metadata": {},
   "outputs": [
    {
     "name": "stdout",
     "output_type": "stream",
     "text": [
      "{'a': 4, 'b': 2, 'f': 1, 'h': 1, 'i': 1, 'k': 2, 'o': 1, 'r': 3, 's': 1, 'v': 1}\n"
     ]
    }
   ],
   "source": [
    "string = \"Barbak Khosravifar\"\n",
    "\n",
    "result = {}\n",
    "\n",
    "for i in range( len(string) ):\n",
    " if not string[i].isalpha():\n",
    "  continue\n",
    " try:\n",
    "   result[ string[i].lower() ] += 1\n",
    " except KeyError:\n",
    "   result[ string[i].lower() ] = 1\n",
    "\n",
    "sort_by_keys = {}\n",
    "for k in sorted(result):\n",
    " sort_by_keys[k] = result[k]\n",
    "\n",
    "print (sort_by_keys)\n"
   ]
  },
  {
   "cell_type": "code",
   "execution_count": null,
   "metadata": {},
   "outputs": [],
   "source": []
  }
 ],
 "metadata": {
  "kernelspec": {
   "display_name": "Python 3",
   "language": "python",
   "name": "python3"
  },
  "language_info": {
   "codemirror_mode": {
    "name": "ipython",
    "version": 3
   },
   "file_extension": ".py",
   "mimetype": "text/x-python",
   "name": "python",
   "nbconvert_exporter": "python",
   "pygments_lexer": "ipython3",
   "version": "3.7.3"
  }
 },
 "nbformat": 4,
 "nbformat_minor": 2
}
