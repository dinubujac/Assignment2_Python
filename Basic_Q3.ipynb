{
 "cells": [
  {
   "cell_type": "code",
   "execution_count": 1,
   "metadata": {},
   "outputs": [
    {
     "name": "stdout",
     "output_type": "stream",
     "text": [
      "-3\n",
      "100\n",
      "233168\n"
     ]
    }
   ],
   "source": [
    "#calculate min and max from a list\n",
    "list = [1,45,3,-3, 27, 100]\n",
    "\n",
    "min = 0\n",
    "max = 0\n",
    "\n",
    "for x in list:\n",
    " if (x < min):\n",
    "  min = x\n",
    " if (x > max):\n",
    "  max = x\n",
    "  \n",
    "print (min)\n",
    "print (max)\n",
    "\n",
    "# sum of multiples of 3 or 5 below 1000\n",
    "sum = 0\n",
    "for x in range(1,1000):\n",
    " if (x % 3 == 0 or x % 5 == 0):\n",
    "  sum += x\n",
    "\n",
    "print(sum)\n",
    "  "
   ]
  },
  {
   "cell_type": "code",
   "execution_count": null,
   "metadata": {},
   "outputs": [],
   "source": []
  }
 ],
 "metadata": {
  "kernelspec": {
   "display_name": "Python 3",
   "language": "python",
   "name": "python3"
  },
  "language_info": {
   "codemirror_mode": {
    "name": "ipython",
    "version": 3
   },
   "file_extension": ".py",
   "mimetype": "text/x-python",
   "name": "python",
   "nbconvert_exporter": "python",
   "pygments_lexer": "ipython3",
   "version": "3.7.3"
  }
 },
 "nbformat": 4,
 "nbformat_minor": 2
}
